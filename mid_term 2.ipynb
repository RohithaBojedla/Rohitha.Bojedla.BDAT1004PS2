{
 "cells": [
  {
   "cell_type": "code",
   "execution_count": 1,
   "metadata": {},
   "outputs": [
    {
     "name": "stdout",
     "output_type": "stream",
     "text": [
      "-----\n",
      "*\n",
      "-----\n",
      "*\n",
      "**\n",
      " *\n",
      "-----\n",
      "*\n",
      "**\n",
      " *\n",
      "***\n",
      "  *\n",
      "  **\n",
      "   *\n",
      "****\n",
      "   *\n",
      "   **\n",
      "    *\n",
      "   ***\n",
      "     *\n",
      "     **\n",
      "      *\n"
     ]
    }
   ],
   "source": [
    "def tough(indentation, pattern_length):\n",
    "    if pattern_length == 0:\n",
    "        return\n",
    "    else:\n",
    "        tough(indentation, pattern_length - 1)\n",
    "        print(' ' * indentation + '*' * pattern_length)\n",
    "        if pattern_length > 1:\n",
    "            tough(indentation + pattern_length - 1, pattern_length - 1)\n",
    "\n",
    "# Examples\n",
    "tough(0, 0)\n",
    "print(\"-----\")\n",
    "tough(0, 1)\n",
    "print(\"-----\")\n",
    "tough(0, 2)\n",
    "print(\"-----\")\n",
    "tough(0,4)"
   ]
  }
 ],
 "metadata": {
  "kernelspec": {
   "display_name": "Python 3",
   "language": "python",
   "name": "python3"
  },
  "language_info": {
   "codemirror_mode": {
    "name": "ipython",
    "version": 3
   },
   "file_extension": ".py",
   "mimetype": "text/x-python",
   "name": "python",
   "nbconvert_exporter": "python",
   "pygments_lexer": "ipython3",
   "version": "3.11.5"
  }
 },
 "nbformat": 4,
 "nbformat_minor": 2
}
