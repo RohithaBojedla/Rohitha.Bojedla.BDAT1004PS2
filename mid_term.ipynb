{
 "cells": [
  {
   "cell_type": "code",
   "execution_count": 3,
   "metadata": {},
   "outputs": [
    {
     "name": "stdout",
     "output_type": "stream",
     "text": [
      "(2,)\n",
      "(4,)\n"
     ]
    }
   ],
   "source": [
    "import sqlite3\n",
    "\n",
    "conn = sqlite3.connect('python_midterm.db')  \n",
    "\n",
    "cursor = conn.cursor()\n",
    "\n",
    "create_table_query = '''\n",
    "CREATE TABLE Weather_Table (\n",
    "    id INT PRIMARY KEY,\n",
    "    recordDate DATE,\n",
    "    temperature INT\n",
    ");\n",
    "'''\n",
    "\n",
    "insert_queries = [\n",
    "    \"INSERT INTO Weather_Table VALUES (1, '2015-01-01', 10);\",\n",
    "    \"INSERT INTO Weather_Table VALUES (2, '2015-01-02', 25);\",\n",
    "    \"INSERT INTO Weather_Table VALUES (3, '2015-01-03', 20);\",\n",
    "    \"INSERT INTO Weather_Table VALUES (4, '2015-01-04', 30);\"\n",
    "]\n",
    "\n",
    "select_query = '''\n",
    "SELECT tem1.id\n",
    "FROM Weather_Table tem1\n",
    "JOIN Weather_Table tem2 ON tem1.id = tem2.id + 1\n",
    "WHERE tem1.temperature > tem2.temperature;\n",
    "'''\n",
    "\n",
    "# Execute the SQL queries\n",
    "cursor.executescript(create_table_query)\n",
    "for insert_query in insert_queries:\n",
    "    cursor.execute(insert_query)\n",
    "\n",
    "# Execute the SELECT query and fetch the results\n",
    "cursor.execute(select_query)\n",
    "results = cursor.fetchall()\n",
    "\n",
    "# Print the results\n",
    "for row in results:\n",
    "    print(row)\n",
    "\n",
    "# Commit the changes and close the database connection\n",
    "conn.commit()\n",
    "conn.close()"
   ]
  }
 ],
 "metadata": {
  "kernelspec": {
   "display_name": "base",
   "language": "python",
   "name": "python3"
  },
  "language_info": {
   "codemirror_mode": {
    "name": "ipython",
    "version": 3
   },
   "file_extension": ".py",
   "mimetype": "text/x-python",
   "name": "python",
   "nbconvert_exporter": "python",
   "pygments_lexer": "ipython3",
   "version": "3.11.4"
  }
 },
 "nbformat": 4,
 "nbformat_minor": 2
}
